{
 "cells": [
  {
   "cell_type": "markdown",
   "metadata": {
    "toc": true
   },
   "source": [
    "<h1>Table of Contents<span class=\"tocSkip\"></span></h1>\n",
    "<div class=\"toc\"><ul class=\"toc-item\"></ul></div>"
   ]
  },
  {
   "cell_type": "code",
   "execution_count": 1,
   "metadata": {},
   "outputs": [],
   "source": [
    "import pandas as pd\n",
    "import csv\n",
    "import os"
   ]
  },
  {
   "cell_type": "code",
   "execution_count": 2,
   "metadata": {},
   "outputs": [],
   "source": [
    "base_folder = r\"C:\\Users\\Achim\\Documents\\GitHub\\privat\\emma_radar\"\n",
    "in_file = os.path.join(base_folder, 'data','raw', 'merged (13).ply')\n",
    "out_file = os.path.join(base_folder, 'data','processed', 'segmented.ply')"
   ]
  },
  {
   "cell_type": "code",
   "execution_count": 3,
   "metadata": {},
   "outputs": [],
   "source": [
    "df = pd.read_csv(in_file, sep=' ', skiprows=13)\n",
    "df.columns = ['x', 'y', 'z', 'nx', 'ny', 'nz', 'r', 'g', 'b']"
   ]
  },
  {
   "cell_type": "code",
   "execution_count": 4,
   "metadata": {},
   "outputs": [
    {
     "name": "stdout",
     "output_type": "stream",
     "text": [
      "<class 'pandas.core.frame.DataFrame'>\n",
      "RangeIndex: 888883 entries, 0 to 888882\n",
      "Data columns (total 9 columns):\n",
      "x     888883 non-null float64\n",
      "y     888883 non-null float64\n",
      "z     888883 non-null float64\n",
      "nx    888883 non-null float64\n",
      "ny    888883 non-null float64\n",
      "nz    888883 non-null float64\n",
      "r     888883 non-null int64\n",
      "g     888883 non-null int64\n",
      "b     888883 non-null int64\n",
      "dtypes: float64(6), int64(3)\n",
      "memory usage: 61.0 MB\n"
     ]
    }
   ],
   "source": [
    "df.info()"
   ]
  },
  {
   "cell_type": "code",
   "execution_count": 5,
   "metadata": {},
   "outputs": [],
   "source": [
    "with open(out_file, 'w') as csvfile:\n",
    "    csvfile.write('ply\\n')\n",
    "    csvfile.write('format ascii 1.0\\n')\n",
    "    csvfile.write('element vertex 888884\\n')\n",
    "    csvfile.write('property float x\\n')\n",
    "    csvfile.write('property float y\\n')\n",
    "    csvfile.write('property float z\\n')\n",
    "    csvfile.write('property float nx\\n')\n",
    "    csvfile.write('property float ny\\n')\n",
    "    csvfile.write('property float nz\\n')\n",
    "    csvfile.write('property uchar diffuse_red\\n')\n",
    "    csvfile.write('property uchar diffuse_green\\n')\n",
    "    csvfile.write('property uchar diffuse_blue\\n')\n",
    "    csvfile.write('end_header\\n')\n",
    "csvfile.close()"
   ]
  },
  {
   "cell_type": "code",
   "execution_count": 8,
   "metadata": {},
   "outputs": [],
   "source": [
    "df.to_csv(out_file, mode='a', sep=' ', index=False, header=False)"
   ]
  },
  {
   "cell_type": "code",
   "execution_count": null,
   "metadata": {},
   "outputs": [],
   "source": []
  }
 ],
 "metadata": {
  "hide_input": false,
  "kernelspec": {
   "display_name": "Python 3",
   "language": "python",
   "name": "python3"
  },
  "language_info": {
   "codemirror_mode": {
    "name": "ipython",
    "version": 3
   },
   "file_extension": ".py",
   "mimetype": "text/x-python",
   "name": "python",
   "nbconvert_exporter": "python",
   "pygments_lexer": "ipython3",
   "version": "3.6.5"
  },
  "toc": {
   "nav_menu": {},
   "number_sections": true,
   "sideBar": true,
   "skip_h1_title": true,
   "title_cell": "Table of Contents",
   "title_sidebar": "Contents",
   "toc_cell": true,
   "toc_position": {},
   "toc_section_display": true,
   "toc_window_display": false
  }
 },
 "nbformat": 4,
 "nbformat_minor": 2
}
